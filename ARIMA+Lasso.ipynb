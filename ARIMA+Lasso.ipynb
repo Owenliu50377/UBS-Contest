{
  "nbformat": 4,
  "nbformat_minor": 0,
  "metadata": {
    "colab": {
      "provenance": [],
      "authorship_tag": "ABX9TyMQsjFUcWohojlzWyHLS8lT",
      "include_colab_link": true
    },
    "kernelspec": {
      "name": "python3",
      "display_name": "Python 3"
    },
    "language_info": {
      "name": "python"
    }
  },
  "cells": [
    {
      "cell_type": "markdown",
      "metadata": {
        "id": "view-in-github",
        "colab_type": "text"
      },
      "source": [
        "<a href=\"https://colab.research.google.com/github/Owenliu50377/UBS-Contest/blob/main/ARIMA%2BLasso.ipynb\" target=\"_parent\"><img src=\"https://colab.research.google.com/assets/colab-badge.svg\" alt=\"Open In Colab\"/></a>"
      ]
    },
    {
      "cell_type": "code",
      "execution_count": null,
      "metadata": {
        "id": "ey68Iv89rfzi"
      },
      "outputs": [],
      "source": [
        "import pandas as pd\n",
        "from sklearn.linear_model import Lasso\n",
        "from sklearn.model_selection import train_test_split\n",
        "from statsmodels.tsa.statespace.sarimax import SARIMAX\n",
        "from sklearn.metrics import mean_squared_error\n",
        "import numpy as np"
      ]
    },
    {
      "cell_type": "code",
      "source": [
        "df = pd.read_csv('../data/Final_dataset.csv')"
      ],
      "metadata": {
        "id": "qJPRk96zrwas"
      },
      "execution_count": null,
      "outputs": []
    },
    {
      "cell_type": "code",
      "source": [
        "# Convert Tenor Bucket and Expiry Bucket to numerical values\n",
        "bucket_mapping = {'10y': 10, '15y': 15, '18M': 1.5,\n",
        "                  '1y': 1, '2y': 2, '3y': 3,\n",
        "                  '4y': 4, '5y': 5, '8y': 8}\n",
        "df['Tenor Bucket'] = df['Tenor Bucket'].map(bucket_mapping)\n",
        "df['Expiry Bucket'] = df['Expiry Bucket'].map(bucket_mapping)\n",
        "\n",
        "# Convert Expiry Date to Expiry Days\n",
        "df['Expiry Date'] = pd.to_datetime(df['Expiry Date'])\n",
        "df['Value Date'] = pd.to_datetime(df['Value Date'])\n",
        "df['Expiry Days'] = (df['Expiry Date'] - df['Value Date']).dt.days\n",
        "\n",
        "# Multiply lower_bound and upper_bound by 100\n",
        "df['lower_bound'] *= 100\n",
        "df['upper_bound'] *= 100"
      ],
      "metadata": {
        "id": "CA88VHEasJLF"
      },
      "execution_count": null,
      "outputs": []
    },
    {
      "cell_type": "code",
      "source": [
        "# Select Features and Target Variable\n",
        "X_columns = ['Zero Rate Shock', 'TV', 'Expiry Bucket', 'Expiry Days',\n",
        "             'Tenor Bucket', 'Vols', 'pay_frequency', 'maturity',\n",
        "             'lower_bound', 'upper_bound', 'Daily_Diff_STD', 'Weekly_Diff_STD',\n",
        "             'Monthly_Diff_STD', 'Mean_CMS', 'STD_CMS',\n",
        "             'Max_CMS', 'Min_CMS', 'Proportion_Within_Range']\n",
        "Y_column = 'Vega'\n",
        "\n",
        "# Split into Training and Testing Sets\n",
        "X_train, X_test, y_train, y_test = train_test_split(df[X_columns], df[Y_column],\n",
        "                                                    test_size=0.2, random_state=42)"
      ],
      "metadata": {
        "id": "ayEXON72sJN7"
      },
      "execution_count": null,
      "outputs": []
    },
    {
      "cell_type": "code",
      "source": [
        "# Initialize Lasso Model\n",
        "lasso_model = Lasso(alpha=0.1, max_iter=10000)\n",
        "\n",
        "# Train Lasso Model\n",
        "lasso_model.fit(X_train, y_train)\n",
        "\n",
        "# Print Selected Features and Corresponding Coefficients\n",
        "selected_features = [feature for feature, coef in zip(X_columns, lasso_model.coef_) if coef != 0]\n",
        "lasso_coefs = dict(zip(selected_features, lasso_model.coef_))\n",
        "print(\"Lasso selected features and corresponding coefficients:\")\n",
        "print(lasso_coefs)\n",
        "\n",
        "# Rebuild Data Set with Selected Features\n",
        "X_selected = df[selected_features + ['Zero Rate Shock', 'Expiry Bucket',\n",
        "                                     'Tenor Bucket', 'Value Date',\n",
        "                                     'Trade Name', 'Vega']].set_index('Value Date')"
      ],
      "metadata": {
        "id": "_PZM_O8NsJRE"
      },
      "execution_count": null,
      "outputs": []
    },
    {
      "cell_type": "code",
      "source": [
        "# Grouping Column Name\n",
        "group_by_column = 'Trade Name'\n",
        "\n",
        "# Create New Grouping Column\n",
        "df['Group'] = (df['Trade Name'] + '_' +\n",
        "               df['Zero Rate Shock'].astype(str) + '_' +\n",
        "               df['Expiry Bucket'].astype(str) + '_' +\n",
        "               df['Tenor Bucket'].astype(str))"
      ],
      "metadata": {
        "id": "nESejmvpsJTZ"
      },
      "execution_count": null,
      "outputs": []
    },
    {
      "cell_type": "code",
      "source": [
        "# Group-wise Training of ARIMAX Models and Compute MSE\n",
        "# Initialize Lists to Store Model Coefficients and MSE\n",
        "model_coeffs = []\n",
        "mse_list = []\n",
        "\n",
        "# Group-wise Processing\n",
        "for name, group in df.groupby('Group'):\n",
        "    # print(f\"Forecasting for group: {name}\")\n",
        "\n",
        "    # Split into Training and Testing Sets\n",
        "    train_size = int(len(group) * 0.8)\n",
        "    train, test = group.iloc[:train_size], group.iloc[train_size:]\n",
        "\n",
        "    endog_train = train['Vega']\n",
        "    exog_train = train[selected_features]\n",
        "    endog_test = test['Vega']\n",
        "    exog_test = test[selected_features]\n",
        "\n",
        "    # Fit ARIMAX Model\n",
        "    model = SARIMAX(endog_train, exog=exog_train, order=(1, 1, 1))\n",
        "    model_fit = model.fit(maxiter=10000, disp=False)\n",
        "\n",
        "    # Store Model Coefficients\n",
        "    model_coeffs.append(model_fit.params)\n",
        "\n",
        "    # Forecast Test Set\n",
        "    forecast = model_fit.forecast(steps=len(test), exog=exog_test)\n",
        "\n",
        "    # Compute MSE\n",
        "    mse = mean_squared_error(endog_test, forecast)\n",
        "    mse_list.append(mse)\n",
        "    # print(f\"MSE for group {name}: {mse}\")"
      ],
      "metadata": {
        "id": "btvdBxNFsJWF"
      },
      "execution_count": null,
      "outputs": []
    },
    {
      "cell_type": "code",
      "source": [
        "# Compute Average Coefficients\n",
        "average_coeffs = pd.DataFrame(model_coeffs).mean()\n",
        "print(\"Average coefficients for ARIMAX model:\")\n",
        "print(average_coeffs)\n",
        "\n",
        "# Compute Average MSE across All Groups\n",
        "average_mse = np.mean(mse_list)\n",
        "print(f\"Average MSE for ARIMAX model: {average_mse}\")"
      ],
      "metadata": {
        "id": "6z_O2SbcsJYV"
      },
      "execution_count": null,
      "outputs": []
    }
  ]
}